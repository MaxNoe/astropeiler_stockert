{
 "cells": [
  {
   "cell_type": "markdown",
   "metadata": {},
   "source": [
    "# Praktikum am Astropeiler Stockert\n",
    "\n",
    "![Image](https://farm6.staticflickr.com/5561/14499025000_c58c919221_z.jpg)\n",
    "\n",
    "## Imports"
   ]
  },
  {
   "cell_type": "code",
   "execution_count": null,
   "metadata": {
    "collapsed": true
   },
   "outputs": [],
   "source": [
    "import pandas as pd\n",
    "import numpy as np\n",
    "import matplotlib.pyplot as plt\n",
    "from matplotlib.style import use\n",
    "use('ggplot')\n",
    "%matplotlib inline\n",
    "%config InlineBackend.figure_format = 'svg'\n",
    "plt.rcParams['figure.figsize'] = (9, 6)\n",
    "plt.rcParams['font.size'] = 12\n",
    "plt.rcParams['legend.fontsize'] = 12\n",
    "plt.rcParams['lines.linewidth'] = 2\n",
    "\n",
    "from IPython.display import display, Math, Latex\n",
    "\n",
    "def pprint(*args, **kwargs):\n",
    "    display(Latex(*args, **kwargs))"
   ]
  },
  {
   "cell_type": "code",
   "execution_count": null,
   "metadata": {
    "collapsed": true
   },
   "outputs": [],
   "source": [
    "sidereal_day_seconds = 86164.09054\n",
    "hydrogen_line_ghz = 1.42040575177"
   ]
  },
  {
   "cell_type": "code",
   "execution_count": null,
   "metadata": {
    "collapsed": true
   },
   "outputs": [],
   "source": [
    "from scipy.constants import c as speed_of_light\n",
    "\n",
    "def time2degrees(timestamp, declination):\n",
    "    '''transforms timestamp into degrees in the field of view'''\n",
    "    t = timestamp - timestamp.min()\n",
    "    t = t.seconds + t.microseconds/1e6 + t.nanoseconds/1e9\n",
    "    degrees = 360 / sidereal_day_seconds * t * np.cos(declination)\n",
    "    return degrees\n",
    "\n",
    "def frequency2velocity(f_obs, f_emit):\n",
    "    ratio = f_emit / f_obs\n",
    "    return (ratio**2 - 1) / (ratio**2 + 1) * speed_of_light\n",
    "\n",
    "def gauss_uniform(x, N, mu, sigma, U):\n",
    "    # assure norm and sigma positive:\n",
    "    if N < 0 or sigma < 0:\n",
    "        return np.nan\n",
    "    norm = N / np.sqrt(2 * np.pi * sigma**2) \n",
    "    return norm * np.exp(-0.5 * (x - mu)**2/sigma**2) + U"
   ]
  },
  {
   "cell_type": "markdown",
   "metadata": {},
   "source": [
    "## Dopplerverschiebung\n",
    "\n",
    "Formel zur Umrechung von Frequenz in Geschwindigkeit\n",
    "$$\n",
    "v = \\left( \\left( \\frac{f_e}{f_o} \\right)^2 - 1 \\right) \\left( \\left( \\frac{f_e}{f_o} \\right)^2 + 1 \\right)^{-1} \\cdot c \n",
    "$$"
   ]
  },
  {
   "cell_type": "markdown",
   "metadata": {},
   "source": [
    "## Resolution Measurement\n",
    "\n"
   ]
  },
  {
   "cell_type": "code",
   "execution_count": null,
   "metadata": {
    "collapsed": false
   },
   "outputs": [],
   "source": [
    "data = pd.read_csv(\n",
    "    'data/sto25_CAS_A_cont_10781.csv',\n",
    "    header=None,\n",
    "    names=['time',\n",
    "           'azimuth',\n",
    "           'elevation',\n",
    "           'right_ascension',\n",
    "           'declination',\n",
    "           'phase',\n",
    "           'intensity_v',\n",
    "           'intensity_h',\n",
    "          ],\n",
    "    index_col=0,\n",
    "    parse_dates=[0],\n",
    ")\n",
    "\n",
    "\n",
    "data.head()"
   ]
  },
  {
   "cell_type": "code",
   "execution_count": null,
   "metadata": {
    "collapsed": false
   },
   "outputs": [],
   "source": [
    "data['degrees'] = time2degrees(data.index, data.declination.mean()/180 * np.pi)"
   ]
  },
  {
   "cell_type": "code",
   "execution_count": null,
   "metadata": {
    "collapsed": false
   },
   "outputs": [],
   "source": [
    "from scipy.optimize import curve_fit\n",
    "\n",
    "fit_data = data.query('degrees > 1 & degrees < 3.5')\n",
    "\n",
    "params1, cov1 = curve_fit(f=gauss_uniform,\n",
    "                          xdata=fit_data.degrees,\n",
    "                          ydata=fit_data.intensity_v,\n",
    "                          p0=[1e6, 4, 2, 2e6],\n",
    "                          )\n",
    "params2, cov2 = curve_fit(f=gauss_uniform,\n",
    "                          xdata=fit_data.degrees,\n",
    "                          ydata=fit_data.intensity_h,\n",
    "                          p0=[1e6, 4, 2, 2e6],\n",
    "                          )\n",
    "\n",
    "sigma1 = params1[2]\n",
    "fwhm1 = 2*np.sqrt(2*np.log(2)) * sigma1\n",
    "sigma2 = params2[2]\n",
    "fwhm2 = 2*np.sqrt(2*np.log(2)) * sigma2\n",
    "\n",
    "pprint('$\\sigma_1 = {:1.2f}^\\circ$'.format(sigma1))\n",
    "pprint('$\\mathrm{{FWHM}}_1 = {:1.2f}^\\circ$'.format(fwhm1))\n",
    "pprint('$\\sigma_2 = {:1.2f}^\\circ$'.format(sigma2))\n",
    "pprint('$\\mathrm{{FWHM}}_2 = {:1.2f}^\\circ$'.format(fwhm2))"
   ]
  },
  {
   "cell_type": "code",
   "execution_count": null,
   "metadata": {
    "collapsed": true
   },
   "outputs": [],
   "source": []
  },
  {
   "cell_type": "code",
   "execution_count": null,
   "metadata": {
    "collapsed": true
   },
   "outputs": [],
   "source": [
    "#background subtraction\n",
    "data.intensity_v -= params1[3]\n",
    "data.intensity_h -= params2[3]"
   ]
  },
  {
   "cell_type": "code",
   "execution_count": null,
   "metadata": {
    "collapsed": false
   },
   "outputs": [],
   "source": [
    "\n",
    "\n",
    "px = np.linspace(0, 7.5, 1000)\n",
    "data.plot(x='degrees', y=['intensity_v', 'intensity_h'])\n",
    "plt.plot(px, gauss_uniform(px, *params1) - params1[3], label='fit1', ls='--')\n",
    "plt.plot(px, gauss_uniform(px, *params2) - params2[3], label='fit2', ls='--')\n",
    "plt.title(\"Resolution of Stockert Telescope\")\n",
    "plt.plot([params1[1] - 0.5*fwhm1, params1[1] + 0.5*fwhm1 ], \n",
    "          [0.5*data.intensity_v.max(), 0.5*data.intensity_v.max()],\n",
    "          color=\"black\",\n",
    "          label=\"Full width at half height vertically\")\n",
    "\n",
    "plt.plot([params2[1] - 0.5*fwhm2, params2[1] + 0.5*fwhm2 ], \n",
    "          [0.5*data.intensity_h.max(), 0.5*data.intensity_h.max()],\n",
    "          color=\"black\",\n",
    "          label=\"Full width at half height horizontally\")\n",
    "\n",
    "plt.legend(loc=\"upper left\")\n",
    "plt.show()"
   ]
  },
  {
   "cell_type": "markdown",
   "metadata": {},
   "source": [
    "## OH-measurement"
   ]
  },
  {
   "cell_type": "code",
   "execution_count": null,
   "metadata": {
    "collapsed": false
   },
   "outputs": [],
   "source": [
    "oh_on = pd.read_csv('data/sto25_W3OH_spec_10782.csv',\n",
    "                    sep=' ',\n",
    "                    skiprows=44,\n",
    "                    header=None,\n",
    "                    names=['index',\n",
    "                           'frequency',\n",
    "                           'data1',\n",
    "                           'data2',\n",
    "                           'data3',\n",
    "                           'data4',\n",
    "                           'data_sum',\n",
    "                          ]\n",
    "                   )\n",
    "oh_off = pd.read_csv('data/sto25_W3OH_spec_10783.csv',\n",
    "                     sep=' ',\n",
    "                     skiprows=44,\n",
    "                     header=None,\n",
    "                     names=['index',\n",
    "                            'frequency',\n",
    "                            'data1',\n",
    "                            'data2',\n",
    "                            'data3',\n",
    "                            'data4',\n",
    "                            'data_sum',\n",
    "                           ]\n",
    "                    )\n",
    "\n",
    "\n",
    "# transform frequency to GHz\n",
    "oh_on.frequency /= 1e9\n",
    "oh_off.frequency /= 1e9\n",
    "\n",
    "oh_on = oh_on.query('frequency > 1.66 & frequency < 1.68')\n",
    "oh_off = oh_off.query('frequency > 1.66 & frequency < 1.68')"
   ]
  },
  {
   "cell_type": "code",
   "execution_count": null,
   "metadata": {
    "collapsed": false
   },
   "outputs": [],
   "source": [
    "plt.plot(oh_on.frequency, oh_on.data_sum, label='on')\n",
    "plt.plot(oh_off.frequency, oh_off.data_sum, label='off')\n",
    "plt.legend()\n",
    "plt.xlabel('frequency / GHz')\n",
    "plt.ylabel('Intensity / a.u.')\n",
    "plt.title(\"OH Maser\")"
   ]
  },
  {
   "cell_type": "code",
   "execution_count": null,
   "metadata": {
    "collapsed": false
   },
   "outputs": [],
   "source": [
    "plt.plot(oh_on.frequency, oh_on.data_sum - oh_off.data_sum, label='on - off')\n",
    "plt.legend()\n",
    "plt.xlabel('frequency / MHz')\n",
    "plt.ylabel('Intensity / a.u.')"
   ]
  },
  {
   "cell_type": "markdown",
   "metadata": {},
   "source": [
    "# Extragalatic HI Measurement – Holmberg II\n",
    "\n",
    "![Holmberg II im Sternbild Ursa Major](https://upload.wikimedia.org/wikipedia/commons/thumb/7/7d/Irregular_galaxy_Holmberg_II_%28captured_by_the_Hubble_Space_Telescope%29.tif/lossy-page1-800px-Irregular_galaxy_Holmberg_II_%28captured_by_the_Hubble_Space_Telescope%29.tif.jpg)"
   ]
  },
  {
   "cell_type": "code",
   "execution_count": null,
   "metadata": {
    "collapsed": true
   },
   "outputs": [],
   "source": [
    "holmberg_on = pd.read_csv(\n",
    "    'data/sto25_UGC4305_spec_10784.csv',\n",
    "    sep=' ',\n",
    "    skiprows=44,\n",
    "    header=None,\n",
    "    names=['index',\n",
    "           'frequency',\n",
    "           'data1',\n",
    "           'data2',\n",
    "           'data3',\n",
    "           'data4',\n",
    "           'data_sum',\n",
    "          ],\n",
    ")\n",
    "\n",
    "holmberg_off = pd.read_csv(\n",
    "    'data/sto25_UGC4305_spec_10785.csv',\n",
    "    sep=' ',\n",
    "    skiprows=44,\n",
    "    header=None,\n",
    "    names=['index',\n",
    "           'frequency',\n",
    "           'data1',\n",
    "           'data2',\n",
    "           'data3',\n",
    "           'data4',\n",
    "           'data_sum',\n",
    "          ],\n",
    ")\n",
    "\n",
    "# transform frequency to GHz\n",
    "holmberg_on.frequency /= 1e9\n",
    "holmberg_off.frequency /= 1e9"
   ]
  },
  {
   "cell_type": "code",
   "execution_count": null,
   "metadata": {
    "collapsed": false
   },
   "outputs": [],
   "source": [
    "holmberg = holmberg_on[['frequency', 'data_sum']].copy()\n",
    "holmberg.columns = ['frequency', 'data_on']\n",
    "\n",
    "holmberg['data_off'] = holmberg_off.data_sum\n",
    "holmberg['data_diff'] = holmberg.data_on - holmberg.data_off \n",
    "holmberg['velocity'] = frequency2velocity(holmberg.frequency, hydrogen_line_ghz) / 1000\n",
    "\n",
    "holmberg = holmberg.query('frequency <= 1.422 & frequency >= 1.418')"
   ]
  },
  {
   "cell_type": "code",
   "execution_count": null,
   "metadata": {
    "collapsed": false
   },
   "outputs": [],
   "source": [
    "holmberg.plot(x='velocity', y=['data_on', 'data_off'])\n",
    "plt.xlabel('velocity / (km/s)')\n",
    "plt.title(\"Wasserstofflinien von Holmberg II\")"
   ]
  },
  {
   "cell_type": "code",
   "execution_count": null,
   "metadata": {
    "collapsed": false
   },
   "outputs": [],
   "source": [
    "holmberg.plot(x='velocity', y='data_diff', label='on - off')\n",
    "plt.xlabel('velocity / (km/s)')"
   ]
  }
 ],
 "metadata": {
  "kernelspec": {
   "display_name": "Python 3",
   "language": "python",
   "name": "python3"
  },
  "language_info": {
   "codemirror_mode": {
    "name": "ipython",
    "version": 3
   },
   "file_extension": ".py",
   "mimetype": "text/x-python",
   "name": "python",
   "nbconvert_exporter": "python",
   "pygments_lexer": "ipython3",
   "version": "3.4.3"
  }
 },
 "nbformat": 4,
 "nbformat_minor": 0
}
